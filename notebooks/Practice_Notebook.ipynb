{
 "cells": [
  {
   "cell_type": "markdown",
   "id": "a1549e23",
   "metadata": {},
   "source": [
    "## Setup"
   ]
  },
  {
   "cell_type": "code",
   "execution_count": 5,
   "id": "d91a955b",
   "metadata": {},
   "outputs": [],
   "source": [
    "%load_ext autoreload\n",
    "%autoreload 2"
   ]
  },
  {
   "cell_type": "code",
   "execution_count": 1,
   "id": "ef7a8877",
   "metadata": {},
   "outputs": [
    {
     "name": "stdout",
     "output_type": "stream",
     "text": [
      "Hello, my name is abcd\n"
     ]
    }
   ],
   "source": [
    "from chaotic.lib import who_am_i\n",
    "who_am_i() "
   ]
  },
  {
   "cell_type": "code",
   "execution_count": 2,
   "id": "a3209ffa",
   "metadata": {},
   "outputs": [
    {
     "data": {
      "text/plain": [
       "['/home/fermion/code/fermion44/chaotic-time-series/notebooks',\n",
       " '/home/fermion/code/albinjames/data-context-and-setup',\n",
       " '/home/fermion/code/fermion44/chaotic-time-series/notebooks',\n",
       " '/home/fermion/.pyenv/versions/3.10.6/lib/python310.zip',\n",
       " '/home/fermion/.pyenv/versions/3.10.6/lib/python3.10',\n",
       " '/home/fermion/.pyenv/versions/3.10.6/lib/python3.10/lib-dynload',\n",
       " '',\n",
       " '/home/fermion/.pyenv/versions/lewagon/lib/python3.10/site-packages']"
      ]
     },
     "execution_count": 2,
     "metadata": {},
     "output_type": "execute_result"
    }
   ],
   "source": [
    "import sys\n",
    "sys.path"
   ]
  },
  {
   "cell_type": "code",
   "execution_count": 3,
   "id": "75a9cb89",
   "metadata": {},
   "outputs": [
    {
     "data": {
      "text/plain": [
       "'/home/fermion/.pyenv/versions/lewagon/lib/python3.10/site-packages/chaotic/__init__.py'"
      ]
     },
     "execution_count": 3,
     "metadata": {},
     "output_type": "execute_result"
    }
   ],
   "source": [
    "import chaotic\n",
    "chaotic.__file__"
   ]
  },
  {
   "cell_type": "code",
   "execution_count": null,
   "id": "4e4cc1c5",
   "metadata": {},
   "outputs": [],
   "source": []
  }
 ],
 "metadata": {
  "kernelspec": {
   "display_name": "Python 3.10.6 64-bit ('shims')",
   "language": "python",
   "name": "python3"
  },
  "language_info": {
   "codemirror_mode": {
    "name": "ipython",
    "version": 3
   },
   "file_extension": ".py",
   "mimetype": "text/x-python",
   "name": "python",
   "nbconvert_exporter": "python",
   "pygments_lexer": "ipython3",
   "version": "3.10.6"
  },
  "latex_envs": {
   "LaTeX_envs_menu_present": true,
   "autoclose": false,
   "autocomplete": true,
   "bibliofile": "biblio.bib",
   "cite_by": "apalike",
   "current_citInitial": 1,
   "eqLabelWithNumbers": true,
   "eqNumInitial": 1,
   "hotkeys": {
    "equation": "Ctrl-E",
    "itemize": "Ctrl-I"
   },
   "labels_anchors": false,
   "latex_user_defs": false,
   "report_style_numbering": false,
   "user_envs_cfg": false
  },
  "toc": {
   "base_numbering": 1,
   "nav_menu": {},
   "number_sections": true,
   "sideBar": true,
   "skip_h1_title": false,
   "title_cell": "Table of Contents",
   "title_sidebar": "Contents",
   "toc_cell": false,
   "toc_position": {},
   "toc_section_display": true,
   "toc_window_display": false
  },
  "vscode": {
   "interpreter": {
    "hash": "0fd87ecc880878c7e137015b51b3987c0b28cbd69c42d4b255de31c250315c10"
   }
  }
 },
 "nbformat": 4,
 "nbformat_minor": 5
}
